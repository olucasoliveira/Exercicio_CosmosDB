{
 "cells": [
  {
   "cell_type": "code",
   "execution_count": 1,
   "metadata": {},
   "outputs": [],
   "source": [
    "import azure.cosmos.documents as documents\n",
    "import azure.cosmos.cosmos_client as cosmos_client\n",
    "import azure.cosmos.exceptions as exceptions\n",
    "from azure.cosmos.partition_key import PartitionKey\n",
    "import datetime\n",
    "import uuid\n",
    "import config\n",
    "from azure.cosmos import CosmosClient, PartitionKey"
   ]
  },
  {
   "cell_type": "code",
   "execution_count": 2,
   "metadata": {},
   "outputs": [
    {
     "name": "stdout",
     "output_type": "stream",
     "text": [
      "Aluno\n"
     ]
    }
   ],
   "source": [
    "HOST = config.settings['host']\n",
    "MASTER_KEY = config.settings['master_key']\n",
    "DATABASE_ID = config.settings['database_id']\n",
    "CONTAINER_AL = config.settings['container_alunos']\n",
    "CONTAINER_DC = config.settings['container_disciplinas']"
   ]
  },
  {
   "cell_type": "code",
   "execution_count": 3,
   "metadata": {},
   "outputs": [],
   "source": [
    "# Iniciar a conexão\n",
    "client = CosmosClient(HOST, MASTER_KEY)\n",
    "\n",
    "# GET banco de dados\n",
    "database = client.get_database_client(DATABASE_ID)\n",
    "\n",
    "# GET contêineres\n",
    "container_alunos= database.get_container_client(CONTAINER_AL)\n",
    "container_disciplinas = database.get_container_client(CONTAINER_DC)"
   ]
  },
  {
   "cell_type": "code",
   "execution_count": 4,
   "metadata": {},
   "outputs": [
    {
     "name": "stdout",
     "output_type": "stream",
     "text": [
      "Documento criado! ID: b6ea4933-b6dd-4589-a3c8-f5bb58aeedde\n"
     ]
    }
   ],
   "source": [
    "# Dados do Aluno 1 (sem o campo 'id')\n",
    "\n",
    "document_data = {\n",
    "    'id': str(uuid.uuid4()),\n",
    "    'nome': 'Lucas de Oliveira',\n",
    "    'dt_matricula': 2023\n",
    "}\n",
    "\n",
    "\n",
    "# Criar o documento (CREATE)\n",
    "created_document = container_alunos.create_item(body=document_data)\n",
    "print(f'Documento criado! ID: {created_document[\"id\"]}')\n"
   ]
  },
  {
   "cell_type": "code",
   "execution_count": 5,
   "metadata": {},
   "outputs": [
    {
     "name": "stdout",
     "output_type": "stream",
     "text": [
      "Documento criado! ID: 80ee87d2-88ba-4cb8-8255-ae08b3c5e47d\n"
     ]
    }
   ],
   "source": [
    "# Dados do Aluno 2 (sem o campo 'id')\n",
    "\n",
    "document_data = {\n",
    "    'id': str(uuid.uuid4()),\n",
    "    'nome': 'Aline Ferreira',\n",
    "    'dt_matricula': 2023\n",
    "}\n",
    "\n",
    "\n",
    "# Criar o documento (CREATE)\n",
    "created_document = container_alunos.create_item(body=document_data)\n",
    "print(f'Documento criado! ID: {created_document[\"id\"]}')"
   ]
  },
  {
   "cell_type": "code",
   "execution_count": 6,
   "metadata": {},
   "outputs": [
    {
     "name": "stdout",
     "output_type": "stream",
     "text": [
      "Documento criado! ID: e1a11898-62f6-4d6d-a3df-51b35252fb7f\n"
     ]
    }
   ],
   "source": [
    "# Dados do Aluno 3 (sem o campo 'id')\n",
    "\n",
    "document_data = {\n",
    "    'id': str(uuid.uuid4()),\n",
    "    'nome': 'Roberta Oliveira',\n",
    "    'dt_matricula': 2023\n",
    "}\n",
    "\n",
    "\n",
    "# Criar o documento (CREATE)\n",
    "created_document = container_alunos.create_item(body=document_data)\n",
    "print(f'Documento criado! ID: {created_document[\"id\"]}')"
   ]
  },
  {
   "cell_type": "code",
   "execution_count": 7,
   "metadata": {},
   "outputs": [
    {
     "name": "stdout",
     "output_type": "stream",
     "text": [
      "Documento criado! ID: 75c8a12e-7e42-479d-b4b1-5c8943b1ab19\n"
     ]
    }
   ],
   "source": [
    "# Dados do Aluno 4 (sem o campo 'id')\n",
    "\n",
    "document_data = {\n",
    "    'id': str(uuid.uuid4()),\n",
    "    'nome': 'Marcos Denner',\n",
    "    'dt_matricula': 2023\n",
    "}\n",
    "\n",
    "\n",
    "# Criar o documento (CREATE)\n",
    "created_document = container_alunos.create_item(body=document_data)\n",
    "print(f'Documento criado! ID: {created_document[\"id\"]}')"
   ]
  },
  {
   "cell_type": "code",
   "execution_count": 8,
   "metadata": {},
   "outputs": [
    {
     "name": "stdout",
     "output_type": "stream",
     "text": [
      "Documento criado! ID: a22c81e3-6fd3-4016-8d2b-24a04277ec0a\n"
     ]
    }
   ],
   "source": [
    "# Dados do Aluno 5 (sem o campo 'id')\n",
    "\n",
    "document_data = {\n",
    "    'id': str(uuid.uuid4()),\n",
    "    'nome': 'Robson Ferrain',\n",
    "    'dt_matricula': 2023\n",
    "}\n",
    "\n",
    "\n",
    "# Criar o documento (CREATE)\n",
    "created_document = container_alunos.create_item(body=document_data)\n",
    "print(f'Documento criado! ID: {created_document[\"id\"]}')"
   ]
  },
  {
   "cell_type": "code",
   "execution_count": 9,
   "metadata": {},
   "outputs": [
    {
     "name": "stdout",
     "output_type": "stream",
     "text": [
      "Documento criado! ID: 114a10f8-e567-4e50-ade7-87531c6d1520\n",
      "Documento criado! ID: 3c11a290-3247-4cfa-b632-e655a20cc2e9\n",
      "Documento criado! ID: 42c705d7-b79a-409a-b175-7abfc218f881\n",
      "Documento criado! ID: 697030e4-a9ad-4791-a881-db068e8dfd6a\n"
     ]
    }
   ],
   "source": [
    "# Dados do Aluno 6 (sem o campo 'id')\n",
    "document_data_6 = {\n",
    "    'id': str(uuid.uuid4()),\n",
    "    'nome': 'Joana Silva',\n",
    "    'dt_matricula': 2023\n",
    "}\n",
    "\n",
    "# Criar o documento (CREATE)\n",
    "created_document_6 = container_alunos.create_item(body=document_data_6)\n",
    "print(f'Documento criado! ID: {created_document_6[\"id\"]}')\n",
    "\n",
    "# Dados do Aluno 7 (sem o campo 'id')\n",
    "document_data_7 = {\n",
    "    'id': str(uuid.uuid4()),\n",
    "    'nome': 'Mariana Santos',\n",
    "    'dt_matricula': 2023\n",
    "}\n",
    "\n",
    "# Criar o documento (CREATE)\n",
    "created_document_7 = container_alunos.create_item(body=document_data_7)\n",
    "print(f'Documento criado! ID: {created_document_7[\"id\"]}')\n",
    "\n",
    "# Dados do Aluno 8 (sem o campo 'id')\n",
    "document_data_8 = {\n",
    "    'id': str(uuid.uuid4()),\n",
    "    'nome': 'Rafael Lima',\n",
    "    'dt_matricula': 2023\n",
    "}\n",
    "\n",
    "# Criar o documento (CREATE)\n",
    "created_document_8 = container_alunos.create_item(body=document_data_8)\n",
    "print(f'Documento criado! ID: {created_document_8[\"id\"]}')\n",
    "\n",
    "# Dados do Aluno 9 (sem o campo 'id')\n",
    "document_data_9 = {\n",
    "    'id': str(uuid.uuid4()),\n",
    "    'nome': 'Amanda Pereira',\n",
    "    'dt_matricula': 2023\n",
    "}\n",
    "\n",
    "# Criar o documento (CREATE)\n",
    "created_document_9 = container_alunos.create_item(body=document_data_9)\n",
    "print(f'Documento criado! ID: {created_document_9[\"id\"]}')\n"
   ]
  },
  {
   "cell_type": "code",
   "execution_count": 25,
   "metadata": {},
   "outputs": [
    {
     "name": "stdout",
     "output_type": "stream",
     "text": [
      "{'id': 'b6ea4933-b6dd-4589-a3c8-f5bb58aeedde', 'nome': 'Lucas de Oliveira', 'dt_matricula': 2023, '_rid': 'ruxMAI91Ie0BAAAAAAAAAA==', '_self': 'dbs/ruxMAA==/colls/ruxMAI91Ie0=/docs/ruxMAI91Ie0BAAAAAAAAAA==/', '_etag': '\"e90034e0-0000-0700-0000-651ead270000\"', '_attachments': 'attachments/', '_ts': 1696509223}\n",
      "{'id': '80ee87d2-88ba-4cb8-8255-ae08b3c5e47d', 'nome': 'Aline Ferreira', 'dt_matricula': 2023, '_rid': 'ruxMAI91Ie0CAAAAAAAAAA==', '_self': 'dbs/ruxMAA==/colls/ruxMAI91Ie0=/docs/ruxMAI91Ie0CAAAAAAAAAA==/', '_etag': '\"e90053e8-0000-0700-0000-651ead660000\"', '_attachments': 'attachments/', '_ts': 1696509286}\n",
      "{'id': 'e1a11898-62f6-4d6d-a3df-51b35252fb7f', 'nome': 'Roberta Oliveira', 'dt_matricula': 2023, '_rid': 'ruxMAI91Ie0DAAAAAAAAAA==', '_self': 'dbs/ruxMAA==/colls/ruxMAI91Ie0=/docs/ruxMAI91Ie0DAAAAAAAAAA==/', '_etag': '\"e90026eb-0000-0700-0000-651ead790000\"', '_attachments': 'attachments/', '_ts': 1696509305}\n",
      "{'id': '75c8a12e-7e42-479d-b4b1-5c8943b1ab19', 'nome': 'Marcos Denner', 'dt_matricula': 2023, '_rid': 'ruxMAI91Ie0EAAAAAAAAAA==', '_self': 'dbs/ruxMAA==/colls/ruxMAI91Ie0=/docs/ruxMAI91Ie0EAAAAAAAAAA==/', '_etag': '\"e900cff3-0000-0700-0000-651eadbc0000\"', '_attachments': 'attachments/', '_ts': 1696509372}\n",
      "{'id': 'a22c81e3-6fd3-4016-8d2b-24a04277ec0a', 'nome': 'Robson Ferrain', 'dt_matricula': 2023, '_rid': 'ruxMAI91Ie0FAAAAAAAAAA==', '_self': 'dbs/ruxMAA==/colls/ruxMAI91Ie0=/docs/ruxMAI91Ie0FAAAAAAAAAA==/', '_etag': '\"e9005df6-0000-0700-0000-651eadd20000\"', '_attachments': 'attachments/', '_ts': 1696509394}\n",
      "{'id': '114a10f8-e567-4e50-ade7-87531c6d1520', 'nome': 'Joana Silva', 'dt_matricula': 2023, '_rid': 'ruxMAI91Ie0GAAAAAAAAAA==', '_self': 'dbs/ruxMAA==/colls/ruxMAI91Ie0=/docs/ruxMAI91Ie0GAAAAAAAAAA==/', '_etag': '\"ea003300-0000-0700-0000-651eae240000\"', '_attachments': 'attachments/', '_ts': 1696509476}\n",
      "{'id': '3c11a290-3247-4cfa-b632-e655a20cc2e9', 'nome': 'Mariana Santos', 'dt_matricula': 2023, '_rid': 'ruxMAI91Ie0HAAAAAAAAAA==', '_self': 'dbs/ruxMAA==/colls/ruxMAI91Ie0=/docs/ruxMAI91Ie0HAAAAAAAAAA==/', '_etag': '\"ea003c00-0000-0700-0000-651eae240000\"', '_attachments': 'attachments/', '_ts': 1696509476}\n",
      "{'id': '42c705d7-b79a-409a-b175-7abfc218f881', 'nome': 'Rafael Lima', 'dt_matricula': 2023, '_rid': 'ruxMAI91Ie0IAAAAAAAAAA==', '_self': 'dbs/ruxMAA==/colls/ruxMAI91Ie0=/docs/ruxMAI91Ie0IAAAAAAAAAA==/', '_etag': '\"ea004800-0000-0700-0000-651eae240000\"', '_attachments': 'attachments/', '_ts': 1696509476}\n",
      "{'id': '697030e4-a9ad-4791-a881-db068e8dfd6a', 'nome': 'Amanda Pereira', 'dt_matricula': 2023, '_rid': 'ruxMAI91Ie0JAAAAAAAAAA==', '_self': 'dbs/ruxMAA==/colls/ruxMAI91Ie0=/docs/ruxMAI91Ie0JAAAAAAAAAA==/', '_etag': '\"ea005300-0000-0700-0000-651eae250000\"', '_attachments': 'attachments/', '_ts': 1696509477}\n"
     ]
    }
   ],
   "source": [
    "#Exibir todos os alunos\n",
    "\n",
    "query = \"SELECT * FROM aluno\"\n",
    "query_result = container_alunos.query_items(query, enable_cross_partition_query=True)\n",
    "for item in query_result:\n",
    "    print(item)"
   ]
  },
  {
   "cell_type": "code",
   "execution_count": 11,
   "metadata": {},
   "outputs": [
    {
     "name": "stdout",
     "output_type": "stream",
     "text": [
      "Documento criado! ID: Cloud\n",
      "Documento criado! ID: SQL\n",
      "Documento criado! ID: Python\n"
     ]
    }
   ],
   "source": [
    "# Popular a coleção \"disciplinas\" com pelo menos 3 disciplinas\n",
    "disciplinas = [\n",
    "    {\n",
    "        \"id\": \"1\",\n",
    "        \"descricao_disciplina\": \"Cloud\",\n",
    "        \"alunos_matriculados\": [\"b6ea4933-b6dd-4589-a3c8-f5bb58aeedde\", \"80ee87d2-88ba-4cb8-8255-ae08b3c5e47d\", \"e1a11898-62f6-4d6d-a3df-51b35252fb7f\", \"75c8a12e-7e42-479d-b4b1-5c8943b1ab19\", \"a22c81e3-6fd3-4016-8d2b-24a04277ec0a\" ]\n",
    "    },\n",
    "    {\n",
    "        \"id\": \"2\",\n",
    "        \"descricao_disciplina\": \"SQL\",\n",
    "        \"alunos_matriculados\": [\"114a10f8-e567-4e50-ade7-87531c6d1520\", \"3c11a290-3247-4cfa-b632-e655a20cc2e9\", \"42c705d7-b79a-409a-b175-7abfc218f881\", \"697030e4-a9ad-4791-a881-db068e8dfd6a\"]\n",
    "    },\n",
    "    {\n",
    "        \"id\": \"3\",\n",
    "        \"descricao_disciplina\": \"Python\",\n",
    "        \"alunos_matriculados\": [\"75c8a12e-7e42-479d-b4b1-5c8943b1ab19\", \"3c11a290-3247-4cfa-b632-e655a20cc2e9\", \"e1a11898-62f6-4d6d-a3df-51b35252fb7f\"]\n",
    "    }\n",
    "]\n",
    "\n",
    "for disciplina in disciplinas:\n",
    "    # Criar as disciplinas\n",
    "    disciplina = container_disciplinas.create_item(body=disciplina)\n",
    "    print(f'Documento criado! ID: {disciplina[\"descricao_disciplina\"]}')"
   ]
  },
  {
   "cell_type": "code",
   "execution_count": 34,
   "metadata": {},
   "outputs": [
    {
     "name": "stdout",
     "output_type": "stream",
     "text": [
      "{'id': '1', 'descricao_disciplina': 'Cloud', 'alunos_matriculados': ['b6ea4933-b6dd-4589-a3c8-f5bb58aeedde', '80ee87d2-88ba-4cb8-8255-ae08b3c5e47d', 'e1a11898-62f6-4d6d-a3df-51b35252fb7f', '75c8a12e-7e42-479d-b4b1-5c8943b1ab19', 'a22c81e3-6fd3-4016-8d2b-24a04277ec0a'], '_rid': 'ruxMANLPzZEBAAAAAAAAAA==', '_self': 'dbs/ruxMAA==/colls/ruxMANLPzZE=/docs/ruxMANLPzZEBAAAAAAAAAA==/', '_etag': '\"eb01341e-0000-0700-0000-651eb07c0000\"', '_attachments': 'attachments/', '_ts': 1696510076}\n",
      "{'id': '2', 'descricao_disciplina': 'SQL', 'alunos_matriculados': ['114a10f8-e567-4e50-ade7-87531c6d1520', '3c11a290-3247-4cfa-b632-e655a20cc2e9', '42c705d7-b79a-409a-b175-7abfc218f881', '697030e4-a9ad-4791-a881-db068e8dfd6a'], '_rid': 'ruxMANLPzZECAAAAAAAAAA==', '_self': 'dbs/ruxMAA==/colls/ruxMANLPzZE=/docs/ruxMANLPzZECAAAAAAAAAA==/', '_etag': '\"eb013b1e-0000-0700-0000-651eb07c0000\"', '_attachments': 'attachments/', '_ts': 1696510076}\n",
      "{'id': '3', 'descricao_disciplina': 'Python', 'alunos_matriculados': ['75c8a12e-7e42-479d-b4b1-5c8943b1ab19', '3c11a290-3247-4cfa-b632-e655a20cc2e9', 'e1a11898-62f6-4d6d-a3df-51b35252fb7f'], '_rid': 'ruxMANLPzZEDAAAAAAAAAA==', '_self': 'dbs/ruxMAA==/colls/ruxMANLPzZE=/docs/ruxMANLPzZEDAAAAAAAAAA==/', '_etag': '\"eb01411e-0000-0700-0000-651eb07d0000\"', '_attachments': 'attachments/', '_ts': 1696510077}\n"
     ]
    }
   ],
   "source": [
    "#Exibir todas as disciplinas\n",
    "\n",
    "query = \"SELECT * FROM disciplina\"\n",
    "query_result = container_disciplinas.query_items(query, enable_cross_partition_query=True)\n",
    "for item in query_result:\n",
    "    print(item)"
   ]
  },
  {
   "cell_type": "code",
   "execution_count": 65,
   "metadata": {},
   "outputs": [
    {
     "name": "stdout",
     "output_type": "stream",
     "text": [
      "\n",
      "Nome da Disciplina:  Cloud\n",
      "Aluno:  Lucas de Oliveira\n",
      "Aluno:  Aline Ferreira\n",
      "Aluno:  Roberta Oliveira\n",
      "Aluno:  Marcos Denner\n",
      "Aluno:  Robson Ferrain\n",
      "\n",
      "Nome da Disciplina:  SQL\n",
      "Aluno:  Joana Silva\n",
      "Aluno:  Mariana Santos\n",
      "Aluno:  Rafael Lima\n",
      "Aluno:  Amanda Pereira\n",
      "\n",
      "Nome da Disciplina:  Python\n",
      "Aluno:  Marcos Denner\n",
      "Aluno:  Mariana Santos\n",
      "Aluno:  Roberta Oliveira\n"
     ]
    }
   ],
   "source": [
    "#Primeiro vou buscar todas as informações no conjunto das disciplinas\n",
    "\n",
    "query = \"SELECT * FROM disciplina\"\n",
    "query_result = container_disciplinas.query_items(query, enable_cross_partition_query=True)\n",
    "\n",
    "# Vou percorrer cara disciplina\n",
    "\n",
    "for item in query_result:\n",
    "\n",
    "    # Imprimindo o nome da disciplina atual\n",
    "    print(\"\")\n",
    "    print(\"Nome da Disciplina: \", item[\"descricao_disciplina\"])\n",
    "\n",
    "    # Alunos esta recebendo a lista dos ID's matriculados na disciplina\n",
    "    alunos = item[\"alunos_matriculados\"]\n",
    "\n",
    "    # Percorrendo o vetor com os ID's dos alunos\n",
    "\n",
    "    for aluno in alunos:\n",
    "        aluno = aluno\n",
    "\n",
    "        # Em cada cliclo do for sera realizada uma consulta no container aluno buscanco o nome do aluno de acordo com o ID dele\n",
    "        query = f\"SELECT aluno.nome FROM aluno WHERE aluno.id = '{aluno}'\"\n",
    "        query_result = container_alunos.query_items(query, enable_cross_partition_query=True)\n",
    "\n",
    "        # Imprimindo somente o nome de cada aluno na disciplina\n",
    "        for item in query_result:\n",
    "            print(\"Aluno: \", item[\"nome\"])\n",
    "\n"
   ]
  }
 ],
 "metadata": {
  "kernelspec": {
   "display_name": "Python 3",
   "language": "python",
   "name": "python3"
  },
  "language_info": {
   "codemirror_mode": {
    "name": "ipython",
    "version": 3
   },
   "file_extension": ".py",
   "mimetype": "text/x-python",
   "name": "python",
   "nbconvert_exporter": "python",
   "pygments_lexer": "ipython3",
   "version": "3.11.5"
  },
  "orig_nbformat": 4
 },
 "nbformat": 4,
 "nbformat_minor": 2
}
